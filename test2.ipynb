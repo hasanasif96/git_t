import os
from dotenv import load_dotenv

load_dotenv()

pswd = os.getenv('PSWD')
print(pswd)
